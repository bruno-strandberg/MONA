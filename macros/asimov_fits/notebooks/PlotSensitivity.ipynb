{
 "cells": [
  {
   "cell_type": "code",
   "execution_count": null,
   "metadata": {},
   "outputs": [],
   "source": [
    "import os\n",
    "\n",
    "import numpy as np\n",
    "import pandas as pd\n",
    "import matplotlib.pyplot as plt\n",
    "import matplotlib.lines as mlines\n",
    "\n",
    "%matplotlib inline"
   ]
  },
  {
   "cell_type": "code",
   "execution_count": null,
   "metadata": {},
   "outputs": [],
   "source": [
    "filefolder = os.getenv(\"MONADIR\") + \"/macros/asimov_fits/output/csv/\"\n",
    "savefolder = os.getenv(\"MONADIR\") + \"/macros/asimov_fits/output/plots/\""
   ]
  },
  {
   "cell_type": "code",
   "execution_count": null,
   "metadata": {},
   "outputs": [],
   "source": [
    "df_sens_no_2bins = pd.read_csv(filefolder + \"AsimovFitNOTh23Range.csv\")\n",
    "df_sens_io_2bins = pd.read_csv(filefolder + \"AsimovFitIOTh23Range.csv\")\n",
    "\n",
    "df_sens_no_3bins = pd.read_csv(filefolder + \"AsimovFit3BinsNOTh23Range.csv\")\n",
    "df_sens_io_3bins = pd.read_csv(filefolder + \"AsimovFit3BinsIOTh23Range.csv\")\n",
    "\n",
    "df_sens_no_5bins = pd.read_csv(filefolder + \"AsimovFit5BinsNOTh23Range.csv\")\n",
    "df_sens_io_5bins = pd.read_csv(filefolder + \"AsimovFit5BinsIOTh23Range.csv\")\n",
    "\n",
    "df_sens_no_10bins = pd.read_csv(filefolder + \"AsimovFit10BinsNOTh23Range.csv\")\n",
    "df_sens_io_10bins = pd.read_csv(filefolder + \"AsimovFit10BinsIOTh23Range.csv\")"
   ]
  },
  {
   "cell_type": "code",
   "execution_count": null,
   "metadata": {},
   "outputs": [],
   "source": [
    "def squared_sum(x, y):\n",
    "    return np.sqrt(x**2 + y**2)\n",
    "\n",
    "def error(x, y, xerr, yerr):\n",
    "    return 1 / squared_sum(x, y) * np.sqrt(x**2 * xerr**2 + y**2 * yerr**2)"
   ]
  },
  {
   "cell_type": "code",
   "execution_count": null,
   "metadata": {},
   "outputs": [],
   "source": [
    "df_sens_no_2bins['s_no'] = df_sens_no_2bins.apply(lambda x: squared_sum(x['s_tr_no'], x['s_sh_no']), axis=1)\n",
    "df_sens_no_2bins['s_err_no'] = df_sens_no_2bins.apply(lambda x: error(x['s_tr_no'], x['s_sh_no'], x['s_tr_err_no'], x['s_sh_err_no']), axis=1)\n",
    "\n",
    "df_sens_io_2bins['s_io'] = df_sens_io_2bins.apply(lambda x: squared_sum(x['s_tr_io'], x['s_sh_io']), axis=1)\n",
    "df_sens_io_2bins['s_err_io'] = df_sens_io_2bins.apply(lambda x: error(x['s_tr_io'], x['s_sh_io'], x['s_tr_err_io'], x['s_sh_err_io']), axis=1)"
   ]
  },
  {
   "cell_type": "code",
   "execution_count": null,
   "metadata": {},
   "outputs": [],
   "source": [
    "df_sens_io_10bins.head()"
   ]
  },
  {
   "cell_type": "code",
   "execution_count": null,
   "metadata": {},
   "outputs": [],
   "source": [
    "ax1 = df_sens_no_2bins.plot(x=\"th23\", y=\"s_no\", style='-', fontsize=14, color=\"DarkBlue\",  figsize=(12,8))\n",
    "df_sens_io_2bins.plot(x=\"th23\", y=\"s_io\", style='-', fontsize=14, color=\"DarkRed\", ax=ax1)\n",
    "\n",
    "df_sens_no_3bins.plot(x=\"th23\", y=\"s_no\", style='--', fontsize=14, color=\"DarkBlue\", ax=ax1)\n",
    "df_sens_io_3bins.plot(x=\"th23\", y=\"s_io\", style='--', fontsize=14, color=\"DarkRed\", ax=ax1)\n",
    "\n",
    "df_sens_no_5bins.plot(x=\"th23\", y=\"s_no\", style='-.', fontsize=14, color=\"DarkBlue\", ax=ax1)\n",
    "df_sens_io_5bins.plot(x=\"th23\", y=\"s_io\", style='-.', fontsize=14, color=\"DarkRed\", ax=ax1)\n",
    "\n",
    "df_sens_no_10bins.plot(x=\"th23\", y=\"s_no\", style=':', fontsize=14, color=\"DarkBlue\", ax=ax1)\n",
    "df_sens_io_10bins.plot(x=\"th23\", y=\"s_io\", style=':', fontsize=14, color=\"DarkRed\", ax=ax1)\n",
    "\n",
    "plt.errorbar(df_sens_no_2bins['th23'], df_sens_no_2bins['s_no'], yerr=df_sens_no_2bins['s_err_no'], fmt='.b')\n",
    "plt.errorbar(df_sens_io_2bins['th23'], df_sens_io_2bins['s_io'], yerr=df_sens_io_2bins['s_err_io'], fmt='.r')\n",
    "\n",
    "plt.errorbar(df_sens_no_3bins['th23'], df_sens_no_3bins['s_no'], yerr=df_sens_no_3bins['s_err_no'], fmt='.b')\n",
    "plt.errorbar(df_sens_io_3bins['th23'], df_sens_io_3bins['s_io'], yerr=df_sens_io_3bins['s_err_io'], fmt='.r')\n",
    "\n",
    "plt.errorbar(df_sens_no_5bins['th23'], df_sens_no_5bins['s_no'], yerr=df_sens_no_5bins['s_err_no'], fmt='.b')\n",
    "plt.errorbar(df_sens_io_5bins['th23'], df_sens_io_5bins['s_io'], yerr=df_sens_io_5bins['s_err_io'], fmt='.r')\n",
    "\n",
    "plt.errorbar(df_sens_no_10bins['th23'], df_sens_no_10bins['s_no'], yerr=df_sens_no_10bins['s_err_no'], fmt='.b')\n",
    "plt.errorbar(df_sens_io_10bins['th23'], df_sens_io_10bins['s_io'], yerr=df_sens_io_10bins['s_err_io'], fmt='.r')\n",
    "\n",
    "plt.title(\"Asimov sensitivity (3 years)\", fontsize=16)\n",
    "plt.xlabel(r\"$\\theta_{23}$ [deg]\", fontsize=16)\n",
    "plt.ylabel(r\"Sensitivity / $\\sigma$\", fontsize=16)\n",
    "plt.ylim(0, 9)\n",
    "plt.grid()\n",
    "plt.legend([\"IO nature\", \"NO nature\", \"IO nature [3 bins]\", \"NO nature [3 bins]\", \n",
    "            \"IO nature [5 bins]\", \"NO nature [5 bins]\", \"IO nature [10 bins]\", \"NO nature [10 bins]\"], fontsize=14, loc=2)\n",
    "plt.savefig(savefolder + \"AsimovSensitivity2vs3vs5vs10BinswError.pdf\")\n",
    "plt.show()\n"
   ]
  }
 ],
 "metadata": {
  "kernelspec": {
   "display_name": "Python 3",
   "language": "python",
   "name": "python3"
  },
  "language_info": {
   "codemirror_mode": {
    "name": "ipython",
    "version": 3
   },
   "file_extension": ".py",
   "mimetype": "text/x-python",
   "name": "python",
   "nbconvert_exporter": "python",
   "pygments_lexer": "ipython3",
   "version": "3.6.5"
  }
 },
 "nbformat": 4,
 "nbformat_minor": 2
}
