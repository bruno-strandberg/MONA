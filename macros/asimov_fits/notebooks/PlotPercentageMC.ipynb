{
 "cells": [
  {
   "cell_type": "code",
   "execution_count": null,
   "metadata": {},
   "outputs": [],
   "source": [
    "import numpy as np\n",
    "import pandas as pd\n",
    "import matplotlib.pyplot as plt\n",
    "import matplotlib.lines as mlines\n",
    "\n",
    "%matplotlib inline"
   ]
  },
  {
   "cell_type": "code",
   "execution_count": null,
   "metadata": {},
   "outputs": [],
   "source": [
    "df = pd.read_csv(\"../output/csv/CrossCheck/percentages/AsimovFitNO_PercentageOfMC/AsimovFitNO_PercentageOfMC_0-99.csv\", index_col=False)\n",
    "# df = df[df['percentage'] != 'percentage']\n",
    "df = df.astype(float)\n",
    "df['n_chi2_tot'] = np.sqrt(df['n_chi2tr_no']**2 + df['n_chi2sh_no']**2)"
   ]
  },
  {
   "cell_type": "code",
   "execution_count": null,
   "metadata": {},
   "outputs": [],
   "source": [
    "df_normal_binning = pd.read_csv(\"../output/csv/CrossCheck/percentages/BinningCheck/AsimovFitNO_Ebin20ctBin40.csv\")\n",
    "df_normal_binning['n_chi2_tot'] = np.sqrt(df_normal_binning['n_chi2tr_no']**2 + df_normal_binning['n_chi2sh_no']**2)\n",
    "df_normal_binning['percentage'] = 1"
   ]
  },
  {
   "cell_type": "code",
   "execution_count": null,
   "metadata": {},
   "outputs": [],
   "source": [
    "df_double_binning = pd.read_csv(\"../output/csv/CrossCheck/percentages/BinningCheck/AsimovFitNO_Ebin40ctBin80.csv\")\n",
    "df_double_binning['n_chi2_tot'] = np.sqrt(df_double_binning['n_chi2tr_no']**2 + df_double_binning['n_chi2sh_no']**2)\n",
    "df_double_binning['percentage'] = 0.25"
   ]
  },
  {
   "cell_type": "code",
   "execution_count": null,
   "metadata": {},
   "outputs": [],
   "source": [
    "df_triple_binning = pd.read_csv(\"../output/csv/CrossCheck/percentages/BinningCheck/AsimovFitNO_Ebin60ctBin120.csv\")\n",
    "df_triple_binning['n_chi2_tot'] = np.sqrt(df_triple_binning['n_chi2tr_no']**2 + df_triple_binning['n_chi2sh_no']**2)\n",
    "df_triple_binning['percentage'] = 0.111"
   ]
  },
  {
   "cell_type": "code",
   "execution_count": null,
   "metadata": {},
   "outputs": [],
   "source": [
    "df_mean = df.groupby('percentage').mean().reset_index()\n",
    "df_std  = df.groupby('percentage').std().reset_index()"
   ]
  },
  {
   "cell_type": "code",
   "execution_count": null,
   "metadata": {},
   "outputs": [],
   "source": [
    "df.plot.scatter(x='percentage', y='n_chi2tr_no', logx=True)\n",
    "ax1 = plt.gca()\n",
    "df.plot.scatter(x='percentage', y='n_chi2sh_no', logx=True, ax=ax1, c='r')\n",
    "df.plot.scatter(x='percentage', y='n_chi2_tot',  logx=True, ax=ax1, c='black')"
   ]
  },
  {
   "cell_type": "code",
   "execution_count": null,
   "metadata": {},
   "outputs": [],
   "source": [
    "df_mean.plot.scatter(x='percentage', y='n_chi2tr_no', logx=True, figsize=(12,8), fontsize=12, color='DarkBlue')\n",
    "ax1 = plt.gca()\n",
    "df_mean.plot.scatter(x='percentage', y='n_chi2sh_no', logx=True, ax=ax1, color='DarkRed')\n",
    "df_mean.plot.scatter(x='percentage', y='n_chi2_tot',  logx=True, ax=ax1, color='DarkGreen')\n",
    "# df_mean.plot.scatter(x='percentage', y='fit_chi2',  logx=True, ax=ax1, color='Black')\n",
    "\n",
    "count = df[df['percentage'] == 0.01].count()[0]\n",
    "plt.title(f\"Sensitivity averaged over {count} calculations\", fontsize=14) # f string ftw\n",
    "\n",
    "\n",
    "ax1.fill_between(df_mean['percentage'], df_mean['n_chi2tr_no'] + df_std['n_chi2tr_no'], df_mean['n_chi2tr_no'] - df_std['n_chi2tr_no'],\n",
    "                 alpha=0.4, color='b')\n",
    "ax1.fill_between(df_mean['percentage'], df_mean['n_chi2sh_no'] + df_std['n_chi2sh_no'], df_mean['n_chi2sh_no'] - df_std['n_chi2sh_no'],\n",
    "                 alpha=0.4, color='r')\n",
    "ax1.fill_between(df_mean['percentage'], df_mean['n_chi2_tot'] + df_std['n_chi2_tot'], df_mean['n_chi2_tot'] - df_std['n_chi2_tot'],\n",
    "                 alpha=0.4, color='g')\n",
    "\n",
    "ax1.tick_params(width=2, which='both', length=5)\n",
    "plt.xlabel(r\"Fraction of MC events used\", fontsize=14)\n",
    "plt.ylabel(r\"Sensitivity / $\\sigma$\", fontsize=14)\n",
    "\n",
    "# It has double binnning, so the statistics is 2*2 = 4 times smaller, so 25%\n",
    "plt.plot(1, df_normal_binning['n_chi2_tot'], marker='x', markersize=10, color=\"black\")\n",
    "plt.plot(0.25, df_double_binning['n_chi2_tot'], marker='x', markersize=10, color=\"magenta\")\n",
    "plt.plot(0.111, df_triple_binning['n_chi2_tot'], marker='x', markersize=10, color=\"orange\")\n",
    "\n",
    "# plt.legend(['Sensitivity track', 'Sensitivity shower', 'Sensitivity Total'], fontsize=14)\n",
    "\n",
    "s_tr = mlines.Line2D([], [], color='DarkBlue', marker='.', linestyle='None', markersize=14, label=r'Sensitivity track [1 $\\sigma$ CL]')\n",
    "s_sh = mlines.Line2D([], [], color='DarkRed', marker='.', linestyle='None', markersize=14, label='Sensitivity shower [1 $\\sigma$ CL]')\n",
    "s_tot = mlines.Line2D([], [], color='DarkGreen', marker='.', linestyle='None', markersize=14, label='Sensitivity total [1 $\\sigma$ CL]')\n",
    "bin_normal = mlines.Line2D([], [], color='black', marker='x', linestyle='None', markersize=14, label='same bins, 100% statistics')\n",
    "bin_double = mlines.Line2D([], [], color='magenta', marker='x', linestyle='None', markersize=14, label='2x2 more bins, 100% statistics')\n",
    "bin_triple = mlines.Line2D([], [], color='orange', marker='x', linestyle='None', markersize=14, label='3x3 more bins, 100% statistics')\n",
    "plt.legend(handles=[s_tr, s_sh, s_tot, bin_normal, bin_double, bin_triple], fontsize=14)"
   ]
  },
  {
   "cell_type": "code",
   "execution_count": null,
   "metadata": {},
   "outputs": [],
   "source": [
    "df_mean['number'] = df_mean['percentage'] * 6123192\n",
    "df_mean['number_inverse'] = 1 / df_mean['number']"
   ]
  },
  {
   "cell_type": "code",
   "execution_count": null,
   "metadata": {},
   "outputs": [],
   "source": [
    "df_mean.plot.scatter(x='number_inverse', y='fit_chi2', logx=False, figsize=(12,8), fontsize=12, color='DarkBlue')\n",
    "ax1 = plt.gca()\n",
    "df_mean.plot.scatter(x='number_inverse', y='n_chi2sh_no', logx=False, ax=ax1, color='DarkRed')\n",
    "df_mean.plot.scatter(x='number_inverse', y='n_chi2_tot',  logx=False, ax=ax1, color='DarkGreen')\n",
    "\n",
    "count = df[df['percentage'] == 0.01].count()[0]\n",
    "plt.title(f\"Sensitivity averaged over {count} calculations\", fontsize=14) # f string ftw\n",
    "\n",
    "\n",
    "ax1.fill_between(df_mean['number_inverse'], df_mean['n_chi2tr_no'] + df_std['n_chi2tr_no'], df_mean['n_chi2tr_no'] - df_std['n_chi2tr_no'],\n",
    "                 alpha=0.4, color='b')\n",
    "ax1.fill_between(df_mean['number_inverse'], df_mean['n_chi2sh_no'] + df_std['n_chi2sh_no'], df_mean['n_chi2sh_no'] - df_std['n_chi2sh_no'],\n",
    "                 alpha=0.4, color='r')\n",
    "ax1.fill_between(df_mean['number_inverse'], df_mean['n_chi2_tot'] + df_std['n_chi2_tot'], df_mean['n_chi2_tot'] - df_std['n_chi2_tot'],\n",
    "                 alpha=0.4, color='g')\n",
    "\n",
    "ax1.tick_params(width=2, which='both', length=5)\n",
    "plt.xlabel(r\"1 / N\", fontsize=14)\n",
    "plt.ylabel(r\"Sensitivity / $\\sigma$\", fontsize=14)\n",
    "\n",
    "plt.xlim(1e-7,1e-5)\n",
    "\n",
    "plt.legend(['Sensitivity track', 'Sensitivity shower', 'Sensitivity Total'], fontsize=14)\n",
    "\n",
    "s_tr = mlines.Line2D([], [], color='DarkBlue', marker='.', linestyle='None', markersize=14, label=r'Sensitivity track [1 $\\sigma$ CL]')\n",
    "s_sh = mlines.Line2D([], [], color='DarkRed', marker='.', linestyle='None', markersize=14, label='Sensitivity shower [1 $\\sigma$ CL]')\n",
    "s_tot = mlines.Line2D([], [], color='DarkGreen', marker='.', linestyle='None', markersize=14, label='Sensitivity total [1 $\\sigma$ CL]')\n",
    "bin_normal = mlines.Line2D([], [], color='black', marker='x', linestyle='None', markersize=14, label='same bins, 100% statistics')\n",
    "bin_double = mlines.Line2D([], [], color='magenta', marker='x', linestyle='None', markersize=14, label='2x2 more bins, 100% statistics')\n",
    "bin_triple = mlines.Line2D([], [], color='orange', marker='x', linestyle='None', markersize=14, label='3x3 more bins, 100% statistics')\n",
    "plt.legend(handles=[s_tr, s_sh, s_tot, bin_normal, bin_double, bin_triple], fontsize=14)"
   ]
  }
 ],
 "metadata": {
  "kernelspec": {
   "display_name": "Python 3",
   "language": "python",
   "name": "python3"
  },
  "language_info": {
   "codemirror_mode": {
    "name": "ipython",
    "version": 3
   },
   "file_extension": ".py",
   "mimetype": "text/x-python",
   "name": "python",
   "nbconvert_exporter": "python",
   "pygments_lexer": "ipython3",
   "version": "3.6.5"
  }
 },
 "nbformat": 4,
 "nbformat_minor": 2
}
