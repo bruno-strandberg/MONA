{
 "cells": [
  {
   "cell_type": "code",
   "execution_count": null,
   "metadata": {},
   "outputs": [],
   "source": [
    "import numpy as np\n",
    "import pandas as pd\n",
    "import matplotlib.pyplot as plt\n",
    "import matplotlib.lines as mlines\n",
    "\n",
    "%matplotlib inline"
   ]
  },
  {
   "cell_type": "code",
   "execution_count": null,
   "metadata": {},
   "outputs": [],
   "source": [
    "df_2NR  = pd.read_csv('./output/csv/CrossCheck/random_q/AsimovFitNO_RandomQ_Dist_NoRand2bins.csv')\n",
    "df_2R   = pd.read_csv('./output/csv/CrossCheck/random_q/AsimovFitNO_RandomQ_Dist_Rand2bins.csv')\n",
    "df_3NR  = pd.read_csv('./output/csv/CrossCheck/random_q/AsimovFit3BinsNO_RandomQ_Dist_NoRand3bins.csv')\n",
    "df_3R   = pd.read_csv('./output/csv/CrossCheck/random_q/AsimovFit3BinsNO_RandomQ_Dist_Rand3bins.csv')\n",
    "df_5NR  = pd.read_csv('./output/csv/CrossCheck/random_q/AsimovFitNBinsNO_RandomQ_Dist_NoRand5bins.csv')\n",
    "df_5R   = pd.read_csv('./output/csv/CrossCheck/random_q/AsimovFitNBinsNO_RandomQ_Dist_Rand5bins.csv')\n",
    "df_10NR = pd.read_csv('./output/csv/CrossCheck/random_q/AsimovFitNBinsNO_RandomQ_Dist_NoRand10bins.csv')\n",
    "df_10R  = pd.read_csv('./output/csv/CrossCheck/random_q/AsimovFitNBinsNO_RandomQ_Dist_Rand10bins.csv')"
   ]
  },
  {
   "cell_type": "code",
   "execution_count": null,
   "metadata": {},
   "outputs": [],
   "source": [
    "df_5NR['total_shower'] = np.sqrt(sum(df_5NR[x]**2 for x in df_5NR.columns if 'n_chi2sh' in x))\n",
    "df_5NR['total_track']  = np.sqrt(sum(df_5NR[x]**2 for x in df_5NR.columns if 'n_chi2_tr' in x))\n",
    "df_5NR['total'] = np.sqrt(df_5NR['total_shower']**2 + df_5NR['total_track']**2)"
   ]
  },
  {
   "cell_type": "code",
   "execution_count": null,
   "metadata": {},
   "outputs": [],
   "source": [
    "dfs = [df_2NR, df_2R, df_3NR, df_3R, df_5NR, df_5R, df_10NR, df_10R,]\n",
    "for df in dfs:\n",
    "    df['total_shower'] = np.sqrt(sum(df[x]**2 for x in df.columns if 'n_chi2sh' in x))\n",
    "    df['total_track']  = np.sqrt(sum(df[x]**2 for x in df.columns if 'n_chi2tr' in x))\n",
    "    df['total'] = np.sqrt(df['total_shower']**2 + df['total_track']**2)"
   ]
  },
  {
   "cell_type": "code",
   "execution_count": null,
   "metadata": {},
   "outputs": [],
   "source": [
    "df_10NR"
   ]
  },
  {
   "cell_type": "code",
   "execution_count": null,
   "metadata": {},
   "outputs": [],
   "source": [
    "df_all = pd.DataFrame(columns=['nbins', 'sens_NR', 'sens_R'])"
   ]
  },
  {
   "cell_type": "code",
   "execution_count": null,
   "metadata": {},
   "outputs": [],
   "source": [
    "df_all['nbins'] = [2,3,5,10]"
   ]
  },
  {
   "cell_type": "code",
   "execution_count": null,
   "metadata": {},
   "outputs": [],
   "source": [
    "# This couldve been done smarter....\n",
    "df_all['sens_NR'] = [df_2NR['total'][0], df_3NR['total'][0], df_5NR['total'][0], df_10NR['total'][0]]\n",
    "df_all['sens_R']  = [df_2R['total'][0], df_3R['total'][0], df_5R['total'][0], df_10R['total'][0]]\n",
    "\n",
    "df_all['sens_tr_NR'] = [df_2NR['total_track'][0], df_3NR['total_track'][0], df_5NR['total_track'][0], df_10NR['total_track'][0]]\n",
    "df_all['sens_tr_R']  = [df_2R['total_track'][0], df_3R['total_track'][0], df_5R['total_track'][0], df_10R['total_track'][0]]\n",
    "\n",
    "df_all['sens_sh_NR'] = [df_2NR['total_shower'][0], df_3NR['total_shower'][0], df_5NR['total_shower'][0], df_10NR['total_shower'][0]]\n",
    "df_all['sens_sh_R']  = [df_2R['total_shower'][0], df_3R['total_shower'][0], df_5R['total_shower'][0], df_10R['total_shower'][0]]"
   ]
  },
  {
   "cell_type": "code",
   "execution_count": null,
   "metadata": {},
   "outputs": [],
   "source": [
    "df_all.plot(x='nbins', y='sens_NR', figsize=(12,8), fontsize=14, c='Red', marker='o')\n",
    "ax1 = plt.gca()\n",
    "df_all.plot(x='nbins', y='sens_R', ax=ax1, c='DarkRed', marker='o')\n",
    "\n",
    "df_all.plot(x='nbins', y='sens_tr_NR', ax=ax1, c='Blue', marker='o')\n",
    "df_all.plot(x='nbins', y='sens_tr_R', ax=ax1, c='DarkBlue', marker='o')\n",
    "\n",
    "df_all.plot(x='nbins', y='sens_sh_NR', ax=ax1, c='Green', marker='o')\n",
    "df_all.plot(x='nbins', y='sens_sh_R', ax=ax1, c='DarkGreen', marker='o')\n",
    "\n",
    "plt.legend(['Sensitivity total: Q unchanged', 'Sensitivity total: Q random', \n",
    "            'Sensitivity track: Q unchanged', 'Sensitivity track: Q random',\n",
    "            'Sensitivity shower: Q unchanged', 'Sensitivity shower: Q random',], fontsize=14)\n",
    "\n",
    "\n",
    "plt.ylabel(r\"Sensitivity / $\\sigma$\", fontsize=14)\n",
    "plt.xlabel(r\"TOTAL number of bins used in PID variable\", fontsize=14)"
   ]
  },
  {
   "cell_type": "code",
   "execution_count": null,
   "metadata": {},
   "outputs": [],
   "source": []
  }
 ],
 "metadata": {
  "kernelspec": {
   "display_name": "Python 3",
   "language": "python",
   "name": "python3"
  },
  "language_info": {
   "codemirror_mode": {
    "name": "ipython",
    "version": 3
   },
   "file_extension": ".py",
   "mimetype": "text/x-python",
   "name": "python",
   "nbconvert_exporter": "python",
   "pygments_lexer": "ipython3",
   "version": "3.6.5"
  }
 },
 "nbformat": 4,
 "nbformat_minor": 2
}
